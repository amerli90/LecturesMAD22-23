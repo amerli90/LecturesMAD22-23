{
 "cells": [
  {
   "cell_type": "markdown",
   "id": "5fa94c92-20d2-47c8-9226-bd3859f88760",
   "metadata": {
    "tags": []
   },
   "source": [
    "# Counting experiment\n",
    "\n",
    "- We observe a total number of $n = b+s$ events\n",
    "\n",
    "- $s$ is the parameter of interest, $b$ is a nuisance parameter\n",
    "\n",
    "- The likelihood $\\mathcal{L}$ to observe $n$ events when the expected signal and background yields are $s$ and $b$ respectively is the Poissonian $\\mathcal{P}$ with mean $s + b$ calculated at $n$\n",
    "\n",
    "\\begin{equation}\n",
    "\\mathcal{L}(s|b) = \\mathcal{P}(n|s+b)\n",
    "\\end{equation}\n",
    "\n",
    "- Place confidence interval both with a frequentist and bayesian technique on the number of signal events $s$\n",
    "\n",
    "- Here we define some utils that will be useful for later calculation"
   ]
  },
  {
   "cell_type": "markdown",
   "id": "3f962871-125c-4d54-894a-038ea7a56929",
   "metadata": {
    "jp-MarkdownHeadingCollapsed": true,
    "tags": []
   },
   "source": [
    "#### Utils"
   ]
  },
  {
   "cell_type": "code",
   "execution_count": null,
   "id": "19bc5545-24f3-42cb-9dfa-106c346fe931",
   "metadata": {},
   "outputs": [],
   "source": [
    "from scipy.stats import poisson,norm\n",
    "from math import log\n",
    "from scipy.integrate import simpson\n",
    "from scipy.optimize import minimize\n",
    "from functools import partial\n",
    "from scipy.integrate import quad\n",
    "import numpy as np\n",
    "from matplotlib import pyplot as plt\n",
    "from scipy.integrate import cumulative_trapezoid\n",
    "\n",
    "def model_poisson(n,s,b):\n",
    "    return poisson(s+b).pmf(n)\n",
    "\n",
    "def model_constraint(n,s,b,sigmab):\n",
    "    return poisson(s+b).pmf(n)*norm(loc=3,scale=sigmab).pdf(b)\n",
    "\n",
    "def model_poisson_2d(n,x):\n",
    "    s = x[0]\n",
    "    b = x[1]\n",
    "    return poisson(s+b).pmf(n)\n",
    "    \n",
    "def model_constraint_2d(n,x,sigmab):\n",
    "    s = x[0]\n",
    "    b = x[1]\n",
    "    return poisson(s+b).pmf(n)*norm(loc=3,scale=sigmab).pdf(b)\n",
    "\n",
    "def nll(model,n,s,b,**kwargs):\n",
    "    return -np.log(model(n,s,b,**kwargs))\n",
    "\n",
    "def nll_2d(model,n,x,**kwargs):\n",
    "    return -np.log(model(n=n,x=x,**kwargs))\n",
    "\n",
    "def posterior(model,n,b=None,s=np.linspace(0,10,101),**kwargs):\n",
    "    if b!=None: # fixed b\n",
    "        integralmodel = quad(partial(model,n,b=b,**kwargs),0,np.inf)[0]\n",
    "        return model(n,s,b,**kwargs)/integralmodel\n",
    "    else: # b not fixed, optimise b\n",
    "        post = []\n",
    "        for s_i in s:\n",
    "            res=minimize(partial(nll,model,n,s_i,**kwargs),x0=(3,),bounds=[(0,np.inf)])\n",
    "            optimalb = res.x[0]\n",
    "            #integralmodel = quad(partial(model,n,b=optimalb,**kwargs),0,np.inf)[0]\n",
    "            post.append(model(n=n,s=s_i,b=optimalb,**kwargs))\n",
    "        post = np.array(post)\n",
    "        integralmodel = simpson(post,s)\n",
    "        return post/integralmodel\n",
    "\n",
    "def testStatistic(model,n,s,b,bestNLL,**kwargs):\n",
    "    return 2*(nll(model=model,n=n,s=s,b=b,**kwargs)-bestNLL)\n",
    "\n",
    "def testStatistic_2d(model,n,x,bestNLL,**kwargs):\n",
    "    return 2*(nll_2d(model=model,n=n,x=x,**kwargs)-bestNLL)"
   ]
  },
  {
   "cell_type": "markdown",
   "id": "424813db-6773-4fb6-b084-065049285693",
   "metadata": {
    "tags": []
   },
   "source": [
    "## Bayesian approach\n",
    "\n",
    "- The posterior is given by (Bayes theorem)\n",
    "\n",
    "\\begin{equation}\n",
    "\\mathrm{posterior}(s) = \\frac{\\mathcal{L}(s | b) \\, \\mathrm{prior}(s) }{\\int \\mathcal{L}(s | b) \\, \\mathrm{prior}(s) ds}\n",
    "\\end{equation}\n",
    "\n",
    "- The prior for $s$ is uniform in the interval $s\\geq 0$, and the posterior reduces to\n",
    "\n",
    "\\begin{equation}\n",
    "\\mathrm{posterior}(s) = \\frac{\\mathcal{L}(s | b) }{\\int_0^\\infty \\mathcal{L}(s | b) ds}\n",
    "\\end{equation}\n",
    "\n",
    "In the bayesian statistics, once you have the posterior you have “everything”, you can calculate intervals, upper limits, ..."
   ]
  },
  {
   "cell_type": "markdown",
   "id": "173ec1d9-a544-43d6-a87a-611a801aa55d",
   "metadata": {
    "tags": []
   },
   "source": [
    "### Bayesian interval\n",
    "\n",
    "- In case the background $b$ is known the posterior is given by\n",
    "\n",
    "\\begin{equation}\n",
    "\\mathrm{posterior}(s) = \\frac{\\mathcal{L}(s | b)}{\\int_0^\\infty \\mathcal{L}(s' | b) ds'} = \\frac{\\mathcal{P}(n|s+b)}{\\int_o^\\infty \\mathcal{P}(n|s'+b) ds'} = \\frac{\\frac{(s+b)^n}{n!} e^{-(s+b)}}{\\int_0^\\infty \\frac{(s'+b)^n}{n!} e^{-(s'+b)} ds'}\n",
    "\\end{equation}\n",
    "\n",
    "- in the particular case $n=0$\n",
    "\\begin{equation}\n",
    "\\mathrm{posterior}(s) = \\frac{e^{-(s+b)}}{\\int_0^\\infty e^{-(s'+b)} ds'} = e^{-s}\n",
    "\\end{equation}\n",
    "the posterior (and then the confidence intervals) are indipendent on the number of expected background!"
   ]
  },
  {
   "cell_type": "markdown",
   "id": "8887b9bf-6df5-440c-a63b-170c4190d2d5",
   "metadata": {
    "jp-MarkdownHeadingCollapsed": true,
    "tags": []
   },
   "source": [
    "#### Python"
   ]
  },
  {
   "cell_type": "code",
   "execution_count": null,
   "id": "b5b73400-79cb-47fa-9026-6f8cbe2c8cc3",
   "metadata": {},
   "outputs": [],
   "source": [
    "upper_limits = {}\n",
    "fig,axs=plt.subplots(nrows=5, ncols=5, sharex=True, sharey=True, figsize=(12,12))\n",
    "s = np.linspace(0,10,10001)\n",
    "for b in range(5):\n",
    "    for n in range(5):\n",
    "        post = posterior(model=model_poisson,n=n,b=b,s=s)\n",
    "        cum_int = cumulative_trapezoid(post,s)\n",
    "        CL = 0.9\n",
    "        idx = (cum_int>CL).argmax()\n",
    "        upper_limits[(n,b)] = s[idx]\n",
    "        plt.sca(axs[b,n])\n",
    "        plt.xlabel('s')\n",
    "        plt.plot(s,post)\n",
    "\n",
    "print('\\t n=0 \\t n=1 \\t n=2 \\t n=3 \\t n=4')\n",
    "for b in range(0,5):\n",
    "    print('b='+str(b)+'\\t'+( '\\t'.join(['%.3f'%upper_limits[(n,b)] for n in range(0,5)]) ) )"
   ]
  },
  {
   "cell_type": "markdown",
   "id": "5a132bba-fa30-406b-a7bc-bbb88b6e48e3",
   "metadata": {
    "jp-MarkdownHeadingCollapsed": true,
    "tags": []
   },
   "source": [
    "#### ROOT - RooStats"
   ]
  },
  {
   "cell_type": "code",
   "execution_count": null,
   "id": "a71a3696-32d3-48b9-9ec8-add6ee9fc510",
   "metadata": {},
   "outputs": [],
   "source": [
    "import ROOT\n",
    "\n",
    "ws = ROOT.RooWorkspace()\n",
    "\n",
    "ws.factory('expr::splusb(\\'s+b\\',s[1E-5,16],b[3,0,10])')\n",
    "ws.factory('Poisson::poisson(n[0,100],splusb)')\n",
    "\n",
    "ws.factory('Uniform::prior_s(s)') # prior signal\n",
    "ws.factory('Gaussian::prior_b(b,3,sigmab[0.5,0.05,5.0])') # background with gaussian uncertainty\n",
    "ws.factory('PROD::model(poisson,prior_b)')\n",
    "\n",
    "modelc = ROOT.RooStats.ModelConfig(ws)\n",
    "modelc = ROOT.RooStats.ModelConfig(ws)\n",
    "modelc.SetPdf('poisson')\n",
    "modelc.SetParametersOfInterest('s')\n",
    "modelc.SetPriorPdf('prior_s')\n",
    "\n",
    "c = ROOT.TCanvas('c','c',1000,800)\n",
    "c.Divide(5,5,0.,0.)\n",
    "\n",
    "upper_limits = {}\n",
    "for b in range(0,5):\n",
    "    #results.append([])\n",
    "    for n in range(0,5):\n",
    "        ws.var('b').setVal(b)\n",
    "        ws.var('n').setVal(n)\n",
    "        ws.var('b').setConstant()\n",
    "        ws.var('n').setConstant()\n",
    "        data = ROOT.RooDataSet('data','data',ROOT.RooArgSet(ws.var('n')))\n",
    "        data.add(ROOT.RooArgSet(ws.var('n')))\n",
    "        \n",
    "        #obsn = ROOT.RooRealVar('obsn','obsn',n)\n",
    "        #data = ROOT.RooDataSet('data','data',ROOT.RooArgSet(ws.var('x'),obsn),ROOT.RooFit.WeightVar('obsn'))\n",
    "        #data.add(ROOT.RooArgSet(ws.var('x')),n)\n",
    "        bcalc = ROOT.RooStats.BayesianCalculator(data,modelc)\n",
    "        bcalc.SetLeftSideTailFraction(0.)\n",
    "        bcalc.SetConfidenceLevel(0.9)\n",
    "        interval = bcalc.GetInterval()\n",
    "        upper_limits[(n,b)] = interval.UpperLimit()\n",
    "        c.cd(b*5+n+1)\n",
    "        frame = bcalc.GetPosteriorPlot()\n",
    "        frame.Draw()\n",
    "\n",
    "print('\\t n=0 \\t n=1 \\t n=2 \\t n=3 \\t n=4')\n",
    "for b in range(0,5):\n",
    "    print('b='+str(b)+'\\t'+( '\\t'.join(['%.3f'%upper_limits[(n,b)] for n in range(0,5)]) ) )\n",
    "\n",
    "ws.var('b').setConstant(False)\n",
    "ws.var('n').setConstant(False)\n",
    "c.Draw()"
   ]
  },
  {
   "cell_type": "markdown",
   "id": "1d82ed77-68ce-4ef4-8e75-171f66263f52",
   "metadata": {
    "tags": []
   },
   "source": [
    "### Posterior with constraint\n",
    "\n",
    "- To disentangle the parameter of interest $s$ with the nuisance parameter $b$, we add a constraint in $\\mathcal{L}$ on $b$. It could be gaussian (in case previous measurements or estimates from high statistics control samples are available), or any other pdf that reflects the knowledge on this parameter\n",
    "\\begin{equation}\n",
    "\\mathcal{L}(s|b) = \\mathcal{P}(n|s+b) \\cdot \\mathcal{G}(\\overline{b},\\sigma_b)\n",
    "\\end{equation}\n",
    "where $\\overline{b}$ is the estimate of background yield $b$ with an uncertainty $\\sigma_b$\n",
    "\n",
    "- For a given observation $n$, we obtain an optimised background yield $\\hat{b}$, minimizing $-\\log\\mathcal{L}(s,b)$ for each $s$, such that\n",
    "\n",
    "\\begin{equation}\n",
    "\\mathrm{posterior}(s) = \\frac{\\mathcal{L}(s | \\hat{b})}{\\int_0^\\infty \\mathcal{L}(s' | \\hat{b}) ds'} \n",
    "\\end{equation}"
   ]
  },
  {
   "cell_type": "markdown",
   "id": "fe3fab5b-efb0-407e-8ed6-c2be28ed8a47",
   "metadata": {
    "jp-MarkdownHeadingCollapsed": true,
    "tags": []
   },
   "source": [
    "#### Python"
   ]
  },
  {
   "cell_type": "code",
   "execution_count": null,
   "id": "1913e4e2-7423-45a0-a13e-e9826db01c61",
   "metadata": {},
   "outputs": [],
   "source": [
    "for n in range(2,7):\n",
    "    plt.plot(np.linspace(0,10,101),posterior(model=model_constraint,n=n,sigmab=0.5),label='n=%d'%n)\n",
    "plt.legend(loc='best')\n",
    "plt.xlabel('s')"
   ]
  },
  {
   "cell_type": "markdown",
   "id": "cd2330fa-9e3f-45a0-bdf6-0c7dc08d2d35",
   "metadata": {
    "jp-MarkdownHeadingCollapsed": true,
    "tags": []
   },
   "source": [
    "#### ROOT - RooStats"
   ]
  },
  {
   "cell_type": "code",
   "execution_count": null,
   "id": "0494902c-0de4-42e7-91ee-e013b1f66455",
   "metadata": {},
   "outputs": [],
   "source": [
    "modelc.SetPdf('model')\n",
    "modelc.SetParametersOfInterest('s')\n",
    "modelc.SetPriorPdf('prior_s')\n",
    "modelc.SetNuisanceParameters('b')\n",
    "\n",
    "# bkg events not fixed (gaussian uncertainty)\n",
    "frame = ws.var('s').frame()\n",
    "legend = ROOT.TLegend(0.6,0.6,0.9,0.9)\n",
    "legend.SetBorderSize(0)\n",
    "legend.SetFillStyle(0)\n",
    "c = ROOT.TCanvas()\n",
    "for i,n in enumerate(range(2,7)): # number of observed events\n",
    "    ws.var('n').setVal(n)\n",
    "    ws.var('n').setConstant()\n",
    "    data = ROOT.RooDataSet('data','data',ROOT.RooArgSet(ws.var('n')))\n",
    "    data.add(ROOT.RooArgSet(ws.var('n')))\n",
    "    bcalc = ROOT.RooStats.BayesianCalculator(data,modelc)\n",
    "    posterior = bcalc.GetPosteriorPdf()\n",
    "    curve = posterior.plotOn(frame,ROOT.RooFit.LineColor(ROOT.kRed+i),ROOT.RooFit.LineWidth(3),ROOT.RooFit.Name('n%d'%n))\n",
    "    legend.AddEntry(frame.findObject('n%d'%n),'n = %d'%n,'l')\n",
    "ws.var('n').setConstant(False)\n",
    "frame.Draw()\n",
    "legend.Draw()\n",
    "c.Draw()"
   ]
  },
  {
   "cell_type": "markdown",
   "id": "c5bb9ff4-026b-4bc1-880b-63b8e82c7cee",
   "metadata": {
    "tags": []
   },
   "source": [
    "### How the background knowledge impacts on the signal estimate\n",
    "\n",
    "- The physical measurements profit of a better understanding and determination of the background"
   ]
  },
  {
   "cell_type": "markdown",
   "id": "d865d8b2-515a-4bcb-a68e-24c32346b5ae",
   "metadata": {
    "jp-MarkdownHeadingCollapsed": true,
    "tags": []
   },
   "source": [
    "#### Python"
   ]
  },
  {
   "cell_type": "code",
   "execution_count": null,
   "id": "96c8ffa2-4157-4fd4-9e11-c504a1f73a73",
   "metadata": {},
   "outputs": [],
   "source": [
    "n=6\n",
    "s = np.linspace(0,16,101)\n",
    "for sigmab in [0.1,0.5,1.0,2.0]:\n",
    "    post = posterior(model=model_constraint,n=6,s=s,sigmab = sigmab)\n",
    "    plt.plot(s,post,label='$\\sigma_b = %.1f$'%sigmab)\n",
    "plt.legend(loc='best')\n",
    "plt.xlabel('s')"
   ]
  },
  {
   "cell_type": "markdown",
   "id": "681c27cb-24e3-4c17-a166-2407642fb938",
   "metadata": {
    "jp-MarkdownHeadingCollapsed": true,
    "tags": []
   },
   "source": [
    "#### ROOT - RooStats"
   ]
  },
  {
   "cell_type": "code",
   "execution_count": null,
   "id": "90d50dac-67b6-4926-b0a1-60b57e7e5b22",
   "metadata": {},
   "outputs": [],
   "source": [
    "c = ROOT.TCanvas()\n",
    "frame = ws.var('s').frame()\n",
    "n=6\n",
    "ws.var('n').setVal(n)\n",
    "ws.var('n').setConstant()\n",
    "ws.var('b').setVal(3)\n",
    "ws.var('b').setConstant(False)\n",
    "\n",
    "modelc = ROOT.RooStats.ModelConfig(ws)\n",
    "modelc.SetPdf('model')\n",
    "modelc.SetParametersOfInterest('s')\n",
    "modelc.SetPriorPdf('prior_s')\n",
    "modelc.SetNuisanceParameters('b')\n",
    "\n",
    "data = ROOT.RooDataSet('data','data',ROOT.RooArgSet(ws.var('n')))\n",
    "data.add(ROOT.RooArgSet(ws.var('n')))\n",
    "\n",
    "legend = ROOT.TLegend(0.6,0.6,0.9,0.9)\n",
    "legend.SetBorderSize(0)\n",
    "legend.SetFillStyle(0)\n",
    "\n",
    "for i,sigmab in enumerate([0.1,0.5,1.0,2.0]):\n",
    "    ws.var('sigmab').setVal(sigmab)\n",
    "    bcalc = ROOT.RooStats.BayesianCalculator(data,modelc)\n",
    "    posterior = bcalc.GetPosteriorPdf()\n",
    "    curve = posterior.plotOn(frame,ROOT.RooFit.LineColor(ROOT.kRed+i),ROOT.RooFit.LineWidth(3),ROOT.RooFit.Name('sigmab%.2f'%sigmab))\n",
    "    legend.AddEntry(frame.findObject('sigmab%.2f'%sigmab),'#sigma_{b} = %.1f'%sigmab,'l')\n",
    "\n",
    "frame.Draw()\n",
    "legend.Draw()\n",
    "c.Draw()"
   ]
  },
  {
   "cell_type": "markdown",
   "id": "d4966fb6-f706-46b4-b2ad-0ed961ddbd6d",
   "metadata": {
    "tags": []
   },
   "source": [
    "## Frequentist approach\n",
    "\n",
    "- Define test statistic\n",
    "\\begin{equation}\n",
    "t = − 2 \\log \\frac{\\mathcal{L}(s , b )}{\\mathcal{L}(\\hat{s} , \\hat{b} )}\n",
    "\\end{equation}\n",
    "where $\\hat{s}$, $\\hat{b}$ identify the values for which we have the maximum $\\mathcal{L}(s,b)$, obtained from the maximum likelihood fit"
   ]
  },
  {
   "cell_type": "markdown",
   "id": "a20c8927-9450-4c43-bac8-a4d0f8b8d959",
   "metadata": {
    "tags": []
   },
   "source": [
    "### Frequentist interval\n",
    "\n",
    "- In the frequentist approach we use the Wilk’s theorem to convert the test statistic in significance (asymptotic limit) and then calculate intervals\n",
    "\n",
    "- When the background is not constrained, the degree of freedom is $s + b$ and we can't disentangle the two contributions\n",
    "\n",
    "- The best yields estimate is in the region where the test statistic is low and it is identified by $s + b=n=5$ (5 is the number of observed events)"
   ]
  },
  {
   "cell_type": "markdown",
   "id": "7d7f56fb-aef1-40fd-b2ef-bdc4a1180a77",
   "metadata": {
    "jp-MarkdownHeadingCollapsed": true,
    "tags": []
   },
   "source": [
    "#### Python"
   ]
  },
  {
   "cell_type": "code",
   "execution_count": null,
   "id": "b00d3d83-b103-474a-9a7b-a8101b83c4b7",
   "metadata": {},
   "outputs": [],
   "source": [
    "n=5\n",
    "res=minimize(partial(nll_2d,model_poisson_2d,n),x0=(0,1),bounds=[(0,np.inf),(0,np.inf),])\n",
    "bestNLL = res.fun\n",
    "\n",
    "b = np.linspace(1,6,101)\n",
    "b = 0.5*(b[1:]+b[:-1])\n",
    "s = np.linspace(1,6,101)\n",
    "s = 0.5*(s[1:]+s[:-1])\n",
    "sv, bv = np.meshgrid(s,b)\n",
    "\n",
    "t = testStatistic_2d(model = model_poisson_2d,n=n, x = (sv,bv),bestNLL = bestNLL)\n",
    "plt.hist2d(sv.flatten(),bv.flatten(),weights=t.flatten(),bins=[100,100])\n",
    "plt.colorbar()\n",
    "plt.xlabel('s')\n",
    "plt.ylabel('b')"
   ]
  },
  {
   "cell_type": "markdown",
   "id": "3bbcf022-97dc-45fa-89c0-567e190cd0e3",
   "metadata": {
    "jp-MarkdownHeadingCollapsed": true,
    "tags": []
   },
   "source": [
    "#### ROOT - RooStats"
   ]
  },
  {
   "cell_type": "code",
   "execution_count": null,
   "id": "f5670f36-0b04-45fb-a915-212bb62cd75d",
   "metadata": {},
   "outputs": [],
   "source": [
    "import ROOT\n",
    "n = 5\n",
    "data = ROOT.RooDataSet('data','data',ROOT.RooArgSet(ws.var('n')))\n",
    "ws.var('n').setVal(n)\n",
    "data.add(ROOT.RooArgSet(ws.var('n')))\n",
    "\n",
    "pdf = ws.pdf('poisson')\n",
    "\n",
    "pl = ROOT.RooStats.ProfileLikelihoodCalculator(data,pdf,ROOT.RooArgSet(ws.var('s'),ws.var('b')))\n",
    "interval = pl.GetInterval()\n",
    "\n",
    "c = ROOT.TCanvas()\n",
    "ROOT.SetOwnership(c,False)\n",
    "intervalplot = ROOT.RooStats.LikelihoodIntervalPlot(interval)\n",
    "intervalplot.SetNPoints(100*100)\n",
    "intervalplot.Draw('hist nominuit')\n",
    "c.Draw()"
   ]
  },
  {
   "cell_type": "markdown",
   "id": "7c977793-a321-4d9e-982c-366078572752",
   "metadata": {
    "tags": []
   },
   "source": [
    "### Test Statistic with constraint\n",
    "\n",
    "- The likelihood $\\mathcal{L}$ is modified as in the bayesian case\n",
    "\\begin{equation}\n",
    "\\mathcal{L}(s,b) = \\mathcal{P}(n|s+b) \\cdot \\mathcal{G}(\\overline{b},\\sigma_b)\n",
    "\\end{equation}\n",
    "and the test statistic $t$ is calculated accordingly"
   ]
  },
  {
   "cell_type": "markdown",
   "id": "83b31fb8-112c-4d3a-88e7-e1d290f16122",
   "metadata": {
    "jp-MarkdownHeadingCollapsed": true,
    "tags": []
   },
   "source": [
    "#### Python"
   ]
  },
  {
   "cell_type": "code",
   "execution_count": null,
   "id": "fcd6e380-5f87-4d84-b14c-4225a076fd54",
   "metadata": {},
   "outputs": [],
   "source": [
    "n=5\n",
    "b = np.linspace(1,6,101)\n",
    "b = 0.5*(b[1:]+b[:-1])\n",
    "s = np.linspace(1,6,101)\n",
    "s = 0.5*(s[1:]+s[:-1])\n",
    "sv, bv = np.meshgrid(s,b)\n",
    "\n",
    "#res=minimize(partial(nll_2d,partial(model_poisson_2d,n=n)),x0=(0,1),bounds=[(0,np.inf),(0,np.inf),])\n",
    "#print(minimize(partial(nll_2d,model=partial(model_poisson_2d,n=n,sigmab=sigmab)),x0=(0,1),bounds=[(0,np.inf),(0,np.inf),]))\n",
    "\n",
    "from scipy.stats import chi2\n",
    "sigma1 = norm.cdf(-1)*2\n",
    "sigma2 = norm.cdf(-2)*2\n",
    "sigma3 = norm.cdf(-3)*2\n",
    "\n",
    "for sigmab in [0.25,1.,1.25,1.5,2.0]:\n",
    "    res=minimize(partial(nll_2d,model_constraint_2d,n,sigmab=sigmab),x0=(0,1),bounds=[(0,np.inf),(0,np.inf),])\n",
    "    bestNLL = res.fun\n",
    "    t = testStatistic_2d(model=model_constraint_2d, n=n,x = (sv,bv),bestNLL = bestNLL,sigmab=sigmab)\n",
    "    plt.figure()\n",
    "    plt.title(r'$\\sigma_b=%.2f$'%sigmab)\n",
    "    plt.hist2d(sv.flatten(),bv.flatten(),weights=t.flatten(),bins=[100,100])\n",
    "    plt.colorbar()\n",
    "    plt.contour(s,b,t,[chi2(2).ppf(1-sigma1),chi2(2).ppf(1-sigma2),chi2(2).ppf(1-sigma3)],colors=['red','tomato','pink'])\n",
    "    plt.scatter(res.x[0],res.x[1])\n",
    "    plt.xlabel('s')\n",
    "    plt.ylabel('b')"
   ]
  },
  {
   "cell_type": "markdown",
   "id": "fd08c27d-d521-46b4-ac2f-b665a284aab1",
   "metadata": {
    "jp-MarkdownHeadingCollapsed": true,
    "tags": []
   },
   "source": [
    "#### ROOT - RooStats"
   ]
  },
  {
   "cell_type": "code",
   "execution_count": null,
   "id": "07482f3a-2b8e-4ac4-853f-b5e2533c84d7",
   "metadata": {},
   "outputs": [],
   "source": [
    "n = 5\n",
    "data = ROOT.RooDataSet('data','data',ROOT.RooArgSet(ws.var('n')))\n",
    "ws.var('n').setVal(n)\n",
    "data.add(ROOT.RooArgSet(ws.var('n')))\n",
    "\n",
    "for sigmab in [0.25,1,1.25,1.5,2.0]:\n",
    "    ws.var('sigmab').setVal(sigmab)\n",
    "    ws.var('sigmab').setConstant()\n",
    "    pl = ROOT.RooStats.ProfileLikelihoodCalculator(data,ws.pdf('model'),ROOT.RooArgSet(ws.var('s'),ws.var('b')))    \n",
    "    interval = pl.GetInterval()\n",
    "    c = ROOT.TCanvas('c'+str(sigmab),'c'+str(sigmab))\n",
    "    ROOT.SetOwnership(c,False)\n",
    "    intervalplot = ROOT.RooStats.LikelihoodIntervalPlot(interval)\n",
    "    intervalplot.SetTitle('#sigma_{b} = %.2f'%sigmab)\n",
    "    intervalplot.SetNPoints(100*100)\n",
    "    intervalplot.Draw('hist nominuit')\n",
    "    #h = intervalplot.GetPlottedObject()\n",
    "    #h.Draw('colz2')\n",
    "    #h.SetTitle('#sigma_{b} = %.2f'%sigmab)\n",
    "    #h.Draw('colz2')\n",
    "    #c.SaveAs('LogL_b_%.2f.pdf'%sigmab)\n",
    "    c.Draw()\n",
    "ws.var('sigmab').setConstant(False)"
   ]
  },
  {
   "cell_type": "markdown",
   "id": "60e39a63-b336-42c3-bb4d-59ba16918c76",
   "metadata": {},
   "source": [
    "### Profiled Likelihood ratio\n",
    "\n",
    "- The number of background yield $b$ is considered as nuisance parameter and is profiled in the test statistic, i.e. for each value of s an optimal value of $\\hat{\\hat{b}}$ is obtained minimazing the negative log likelihood\n",
    "\\begin{equation}\n",
    "t = − 2 \\log \\frac{\\mathcal{L}(s , \\hat{\\hat{b}} )}{\\mathcal{L}(\\hat{s} , \\hat{b} )}\n",
    "\\end{equation}"
   ]
  },
  {
   "cell_type": "markdown",
   "id": "decebc63-9c9b-4e2e-9cd3-6f920836c597",
   "metadata": {
    "jp-MarkdownHeadingCollapsed": true,
    "tags": []
   },
   "source": [
    "#### Python"
   ]
  },
  {
   "cell_type": "code",
   "execution_count": null,
   "id": "731ed3bf-583e-4dc5-80ab-9d8dc2fa377e",
   "metadata": {},
   "outputs": [],
   "source": [
    "n=5\n",
    "CL = 0.9\n",
    "limit = np.sqrt(chi2(1).ppf(CL))\n",
    "s = np.linspace(0.5,8,151)\n",
    "for sigmab in [0.25,1.,1.25,1.5,2.0]:\n",
    "    res = minimize(partial(nll_2d,model_constraint_2d,n,sigmab=sigmab),x0=(2,3),bounds=[(0,np.inf),(0,np.inf),])\n",
    "    bestNLL = res.fun\n",
    "    t = np.array([])\n",
    "    for si in s:\n",
    "        res = minimize(partial(nll,model_constraint,n,si,sigmab=sigmab),x0=(3,),bounds=[(0,np.inf),])\n",
    "        #bestNLL = res.fun[0]\n",
    "        #print(bestNLL)\n",
    "        t = np.append(t,testStatistic(model=model_constraint,n=n,s=si,b=res.x[0],bestNLL=bestNLL,sigmab=sigmab))\n",
    "        #t.append(testStatistic(model_constraint,si,b=res.x[0],bestNLL))\n",
    "    p = plt.plot(s,t,label=r'$\\sigma_b=%.2f$'%sigmab)\n",
    "    idx = (t>limit).argmax()\n",
    "    upper_limit = 0.5*(s[idx]+s[idx-1])\n",
    "    print('sigmab = %.2f, upper limit = %.2f'%(sigmab,upper_limit))\n",
    "    plt.vlines(upper_limit,0,limit,lw=1,color=p[0].get_color())\n",
    "plt.xlabel('s')\n",
    "plt.axhline(limit,color='black',lw=1)\n",
    "plt.legend(loc='best')"
   ]
  },
  {
   "cell_type": "markdown",
   "id": "cb05d5df-28eb-499f-982a-29a42c361f65",
   "metadata": {
    "jp-MarkdownHeadingCollapsed": true,
    "tags": []
   },
   "source": [
    "#### ROOT - RooStats"
   ]
  },
  {
   "cell_type": "code",
   "execution_count": null,
   "id": "64a11dd5-9ac6-46bc-b473-6812d3c93775",
   "metadata": {},
   "outputs": [],
   "source": [
    "n = 5\n",
    "data = ROOT.RooDataSet('data','data',ROOT.RooArgSet(ws.var('n')))\n",
    "ws.var('n').setVal(n)\n",
    "data.add(ROOT.RooArgSet(ws.var('n')))\n",
    "\n",
    "c = ROOT.TCanvas()\n",
    "ROOT.SetOwnership(c,False)\n",
    "colors = [ROOT.kBlack,ROOT.kOrange,ROOT.kBlue,ROOT.kRed,ROOT.kMagenta]\n",
    "legend = ROOT.TLegend(0.5,0.6,0.9,0.9)\n",
    "legend.SetBorderSize(0)\n",
    "legend.SetFillStyle(0)\n",
    "for i,sigmab in enumerate([0.25,1,1.25,1.5,2.0]):\n",
    "    ws.var('sigmab').setVal(sigmab)\n",
    "    ws.var('sigmab').setConstant()\n",
    "    pl_s = ROOT.RooStats.ProfileLikelihoodCalculator(data,ws.pdf('model'),ROOT.RooArgSet(ws.var('s')))\n",
    "    interval_s = pl_s.GetInterval()\n",
    "    interval_s.SetConfidenceLevel(0.8) # 90% one sided for upper limit\n",
    "    print('sigma_b = %.2f, upper limit on s at 90%%CL = %.2f'%(sigmab,interval_s.UpperLimit(ws.var('s'))))\n",
    "    intervalplot_s = ROOT.RooStats.LikelihoodIntervalPlot(interval_s)\n",
    "    intervalplot_s.SetMaximum(1.5)\n",
    "    intervalplot_s.SetNPoints(100)\n",
    "    intervalplot_s.SetLineColor(colors[i])\n",
    "    intervalplot_s.SetContourColor(colors[i])\n",
    "    intervalplot_s.Draw('same' if i!=0 else '')\n",
    "    intervalplot_s.Print('v')\n",
    "    h = intervalplot_s.GetPlottedObject()\n",
    "    h.Print('v')\n",
    "    #print(h.ls())\n",
    "    #print(dir(h))\n",
    "    #h.getCurve('nll_model_poissonData_with_constr_Profile[s]_Norm[s]').SetLineColor(colors[i])\n",
    "    #h.Draw('same' if i!=0 else '')\n",
    "    #legend.AddEntry(h.getCurve(0),'#sigma_{b} = %.2f'%sigmab,'l')\n",
    "    legend.AddEntry(h.getCurve('nll_model_data_with_constr_Profile[s]_Norm[s]'),'#sigma_{b} = %.2f'%sigmab,'l')\n",
    "\n",
    "legend.Draw()\n",
    "c.Draw()"
   ]
  }
 ],
 "metadata": {
  "kernelspec": {
   "display_name": "Python 3 (ipykernel)",
   "language": "python",
   "name": "python3"
  },
  "language_info": {
   "codemirror_mode": {
    "name": "ipython",
    "version": 3
   },
   "file_extension": ".py",
   "mimetype": "text/x-python",
   "name": "python",
   "nbconvert_exporter": "python",
   "pygments_lexer": "ipython3",
   "version": "3.9.12"
  }
 },
 "nbformat": 4,
 "nbformat_minor": 5
}
