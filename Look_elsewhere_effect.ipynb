{
 "cells": [
  {
   "cell_type": "markdown",
   "id": "20f83f2c-9a37-48d2-9905-5d49129894bc",
   "metadata": {},
   "source": [
    "# Look-elsewhere-effect\n",
    "\n",
    "![alternative text](https://imgs.xkcd.com/comics/significant.png)"
   ]
  },
  {
   "cell_type": "markdown",
   "id": "1512b712-222e-4c34-a6ed-5c8ab9d585dd",
   "metadata": {},
   "source": [
    "## Data\n",
    "\n",
    "- We have a set of measurement of a certain quantity and we expect 20 entries per bin\n",
    "- 4th bin has a bigger number of entries with respect to the others\n",
    "- Is it significative to claim that not-only bkg is contained in that bin?"
   ]
  },
  {
   "cell_type": "code",
   "execution_count": null,
   "id": "8df43a1f-0fd9-49f5-993f-4623a5d52968",
   "metadata": {},
   "outputs": [],
   "source": [
    "from matplotlib import pyplot as plt\n",
    "import numpy as np\n",
    "nbins = 20\n",
    "mean_bkg = 20\n",
    "ndata = np.array([22.,16.,20.,21.,36.,25.,16.,19.,18.,16.,17.,15.,17.,12.,17.,17.,23.,18.,19.,21.])\n",
    "data,bins,_=plt.hist(np.arange(nbins),weights=ndata,label='data',bins=np.arange(nbins+1),histtype='step')\n",
    "plt.axhline(mean_bkg,label='only bkg',color='red',linewidth=1)\n",
    "plt.legend(loc='best')\n",
    "plt.xlabel('a.u.')\n",
    "plt.ylabel('counts')"
   ]
  },
  {
   "cell_type": "markdown",
   "id": "5f59e92e-6ee8-4347-ac47-85738a5396be",
   "metadata": {},
   "source": [
    "## Hypotheses testing\n",
    "\n",
    "- Each count in bin $i$ distributed as a poissonian $\\mathcal{P}(n_i|\\nu_i)$, with mean $\\nu_i$ and observed count $n_i$\n",
    "- Log likelihood\n",
    "\\begin{equation}\n",
    "\\log\\mathcal{L} = \\sum_0^{N-1} \\log\\mathcal{P}(n_i|\\nu_i)\n",
    "\\end{equation}\n",
    "where N is the total number of bins\n",
    "\n",
    "- Two possible hypothesis to test\n",
    "    - $H_0$: only bkg hypothesis: $\\nu_i=20 \\;\\; \\forall i \\in \\{0\\ldots 19\\}$\n",
    "        - $\\log\\mathcal{L}(H_0) = \\sum_{i=0}^{N-1} \\log\\mathcal{P}(n_i|\\nu_i=20)$\n",
    "    - $H_1 (\\mathrm{bin}\\;i)$: Alternative hypothesis to test for local fluctuations in bin $i$\n",
    "        - The best estimate of $\\nu_i$ in the i-th bin is $\\nu_i=n_i$\n",
    "        - $\\log\\mathcal{L}(H_1) = \\sum_{j=0,j\\neq i}^{N-1} \\log\\mathcal{P}(n_j|\\nu_j=20)+\\log\\mathcal{P}(n_i|\\nu_i=n_i)$"
   ]
  },
  {
   "cell_type": "markdown",
   "id": "acf2a2c9-2ec6-41dd-bc46-3b324f3feec9",
   "metadata": {
    "tags": []
   },
   "source": [
    "### Local fluctuations\n",
    "\n",
    "- Test statistic $t$\n",
    "\\begin{equation}\n",
    "t = -2\\log\\frac{\\mathcal{L}(H_0)}{\\mathcal{L}(H_1 (\\mathrm{bin}\\;i))} = -2\\log\\frac{\\mathcal{P}\\left(n_i|\\nu_i=20\\right)}{\\mathcal{P}\\left(n_i|\\nu_i=n_i\\right)}\n",
    "\\end{equation}\n",
    "- Calculate the test statistic in each bin\n",
    "- Estimate the significance of the local fluctuation with the Wilks theorem\n",
    "- The 4th bin has a local significance over $3\\sigma$\n",
    "- Is this an evidence of the rejection for the $H_0$ hypothesis?\n",
    "    - No, this is a local significance, not global!\n",
    "- No physics reason to expect a fluctuation in the 4th bin. We are estimating the significance of a fluctuation in the 4th bin, but we are observing 20 bins"
   ]
  },
  {
   "cell_type": "code",
   "execution_count": null,
   "id": "1be9dc19-4b81-4fe5-aa05-46b57af81768",
   "metadata": {},
   "outputs": [],
   "source": [
    "from scipy.stats import poisson\n",
    "t = -2*np.log(poisson(20).pmf(ndata)/poisson(ndata).pmf(ndata))\n",
    "print('fluctuations ($\\sigma$ unit) = ',np.sqrt(t))\n",
    "plt.plot(np.arange(nbins),t)\n",
    "plt.xlabel('a.u.')\n",
    "plt.ylabel('t')\n",
    "plt.axhline(9,linestyle='dashed',color='red')\n",
    "plt.text(18,9,r'3$\\sigma$',ha='center', va='center',backgroundcolor='white')\n",
    "plt.axhline(4,linestyle='dashed',color='red')\n",
    "plt.text(18,4,r'2$\\sigma$',ha='center', va='center',backgroundcolor='white')\n",
    "plt.axhline(1,linestyle='dashed',color='red')\n",
    "plt.text(18,1,r'1$\\sigma$',ha='center', va='center',backgroundcolor='white')"
   ]
  },
  {
   "cell_type": "markdown",
   "id": "a870fcfb-a8be-4805-b425-011b8d2ac3df",
   "metadata": {},
   "source": [
    "### Global fluctuations\n",
    "\n",
    "- We have to estimate the global significance to properly claim for a only-bkg hypotesis rejection\n",
    "    - Look elsewhere effect (LEE): the global significance of a fluctuation is always smaller than the local significance\n",
    "- We estimate the global significance with a frequentist approach\n",
    "- Generate a large number of pseudo-experiment in the $H_0$ hypothesis\n",
    "- For each toy:\n",
    "    - Calculate $-\\log\\mathcal{L}(H_0)$\n",
    "    - Calculate $−\\log\\mathcal{L}(H_1(\\mathrm{bin}\\; i))$, where the $i$-th bin is the one with the largest fluctuation with respect to the expected background (not only bin 4!)\n",
    "    - Calculate the test statistic $t$\n",
    "- The global significance is the p-value of the test statistic under the hypothesis $H_0$\n",
    "\\begin{equation}\n",
    "\\mathrm{p\\text{-}value}=\\int_{t_{obs}}^{+\\infty} f(t|H_0)dt\n",
    "\\end{equation}\n",
    "and is estimated as\n",
    "\\begin{equation}\n",
    "\\mathrm{p\\text{-}value} = \\frac{N_{toys}(t > t_{obs})}{N_{toys}}\n",
    "\\end{equation}\n",
    "where $t_{obs}$ is the test statistic observed in data, $N_{toys}$ is the number of pseudo-experiments"
   ]
  },
  {
   "cell_type": "code",
   "execution_count": null,
   "id": "49093f1b-0822-4f62-94ac-70e1ddeff9c9",
   "metadata": {},
   "outputs": [],
   "source": [
    "t_obs = -2*np.log(poisson(20).pmf(ndata[4])/poisson(ndata[4]).pmf(ndata[4]))# np.sum(np.log(poisson(20).pmf(ndata)))\n",
    "plt.axvline(t_obs,color='black',label='$t_{obs}$')\n",
    "\n",
    "ntoys = 1000000\n",
    "npseudoexp = poisson(20).rvs(size=[ntoys,nbins])\n",
    "\n",
    "nu_optimal = np.amax(npseudoexp,axis=1)\n",
    "t_lee = -2*np.log(poisson(20).pmf(nu_optimal)/poisson(nu_optimal).pmf(nu_optimal))\n",
    "t_nolee = -2*np.log(poisson(20).pmf(npseudoexp[:,4])/poisson(npseudoexp[:,4]).pmf(npseudoexp[:,4]))\n",
    "_,bins,_=plt.hist(t_lee,label=r'$f(t|H_0)$ w/ LEE',bins=100,histtype='step')\n",
    "plt.hist(t_nolee,bins=bins,label=r'$f(t|H_0)$ w/o LEE',histtype='step')\n",
    "plt.hist(-2*np.log(poisson(ndata[4]).pmf(npseudoexp[:,4])/poisson(npseudoexp[:,4]).pmf(npseudoexp[:,4])),bins=bins,label=r'$f(t|H_1(\\nu_4=%d))$'%ndata[4],histtype='step')\n",
    "plt.legend(loc='best')\n",
    "\n",
    "from scipy.stats import chi2\n",
    "print('WITHOUT LEE')\n",
    "pvalue = len(t_nolee[t_nolee>=t_obs])/len(t_nolee)\n",
    "nsigma = np.sqrt(chi2(1).ppf(1-pvalue))\n",
    "print('p-value = %f (%.2f sigma)'%(pvalue,nsigma))\n",
    "print('WITH LEE')\n",
    "pvalue = len(t_lee[t_lee>=t_obs])/len(t_lee)\n",
    "nsigma = np.sqrt(chi2(1).ppf(1-pvalue))\n",
    "print('p-value = %f (%.2f sigma)'%(pvalue,nsigma))"
   ]
  }
 ],
 "metadata": {
  "kernelspec": {
   "display_name": "Python 3 (ipykernel)",
   "language": "python",
   "name": "python3"
  },
  "language_info": {
   "codemirror_mode": {
    "name": "ipython",
    "version": 3
   },
   "file_extension": ".py",
   "mimetype": "text/x-python",
   "name": "python",
   "nbconvert_exporter": "python",
   "pygments_lexer": "ipython3",
   "version": "3.9.12"
  }
 },
 "nbformat": 4,
 "nbformat_minor": 5
}
